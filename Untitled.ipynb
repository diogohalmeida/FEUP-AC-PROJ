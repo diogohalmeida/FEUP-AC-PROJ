{
 "cells": [
  {
   "cell_type": "code",
   "execution_count": 3,
   "id": "1c217c23",
   "metadata": {},
   "outputs": [
    {
     "name": "stdout",
     "output_type": "stream",
     "text": [
      "      account_id  district_id         frequency    date\n",
      "0            576           55  monthly issuance  930101\n",
      "1           3818           74  monthly issuance  930101\n",
      "2            704           55  monthly issuance  930101\n",
      "3           2378           16  monthly issuance  930101\n",
      "4           2632           24  monthly issuance  930102\n",
      "...          ...          ...               ...     ...\n",
      "4495         124           55  monthly issuance  971228\n",
      "4496        3958           59  monthly issuance  971228\n",
      "4497         777           30  monthly issuance  971228\n",
      "4498        1573           63  monthly issuance  971229\n",
      "4499        3276            1  monthly issuance  971229\n",
      "\n",
      "[4500 rows x 4 columns]\n"
     ]
    }
   ],
   "source": [
    "import pandas as pd\n",
    "\n",
    "accounts = pd.read_csv(\"dataset/account.csv\", sep=';')\n",
    "print(accounts)"
   ]
  },
  {
   "cell_type": "code",
   "execution_count": 5,
   "id": "f7dc147f",
   "metadata": {},
   "outputs": [
    {
     "data": {
      "text/plain": [
       "monthly issuance              4167\n",
       "weekly issuance                240\n",
       "issuance after transaction      93\n",
       "Name: frequency, dtype: int64"
      ]
     },
     "execution_count": 5,
     "metadata": {},
     "output_type": "execute_result"
    }
   ],
   "source": [
    "accounts['frequency'].value_counts()"
   ]
  },
  {
   "cell_type": "code",
   "execution_count": 9,
   "id": "52f415bb",
   "metadata": {},
   "outputs": [
    {
     "data": {
      "text/plain": [
       "930101"
      ]
     },
     "execution_count": 9,
     "metadata": {},
     "output_type": "execute_result"
    }
   ],
   "source": [
    "accounts['date'].min()"
   ]
  },
  {
   "cell_type": "code",
   "execution_count": 8,
   "id": "b51bd86e",
   "metadata": {},
   "outputs": [
    {
     "data": {
      "text/plain": [
       "971229"
      ]
     },
     "execution_count": 8,
     "metadata": {},
     "output_type": "execute_result"
    }
   ],
   "source": [
    "accounts['date'].max()"
   ]
  },
  {
   "cell_type": "code",
   "execution_count": null,
   "id": "2aa02f37",
   "metadata": {},
   "outputs": [],
   "source": []
  }
 ],
 "metadata": {
  "kernelspec": {
   "display_name": "Python 3",
   "language": "python",
   "name": "python3"
  },
  "language_info": {
   "codemirror_mode": {
    "name": "ipython",
    "version": 3
   },
   "file_extension": ".py",
   "mimetype": "text/x-python",
   "name": "python",
   "nbconvert_exporter": "python",
   "pygments_lexer": "ipython3",
   "version": "3.8.8"
  }
 },
 "nbformat": 4,
 "nbformat_minor": 5
}
